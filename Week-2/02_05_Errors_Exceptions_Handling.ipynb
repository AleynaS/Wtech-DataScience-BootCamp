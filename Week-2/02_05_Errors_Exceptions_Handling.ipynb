{
 "cells": [
  {
   "cell_type": "markdown",
   "metadata": {},
   "source": [
    "# Assignments for \"Errors and Exception Handling \""
   ]
  },
  {
   "cell_type": "markdown",
   "metadata": {},
   "source": [
    "1. Let us define a division operation inside a function (using `def`) but to get an error, define the denominator as 0. So, type properly except statement."
   ]
  },
  {
   "cell_type": "code",
   "execution_count": 10,
   "metadata": {},
   "outputs": [
    {
     "name": "stdout",
     "output_type": "stream",
     "text": [
      "Zero Division Exception Raised.\n"
     ]
    }
   ],
   "source": [
    "def div(a):\n",
    "    try:  \n",
    "        a = a / 0\n",
    "        print (a)\n",
    "    except ZeroDivisionError:  \n",
    "            print (\"Zero Division Exception Raised.\" )\n",
    "    else:  \n",
    "        print (\"Success, no error!\")\n",
    "        \n",
    "div(100)"
   ]
  },
  {
   "cell_type": "markdown",
   "metadata": {},
   "source": [
    "2. It is possible to get multiple errors after the execution of one try block. So, please define an error-exception issue with `NameError`."
   ]
  },
  {
   "cell_type": "code",
   "execution_count": 6,
   "metadata": {},
   "outputs": [
    {
     "name": "stdout",
     "output_type": "stream",
     "text": [
      "NameError: name 'ans' is not defined\n"
     ]
    }
   ],
   "source": [
    "try:\n",
    "    print (ans)\n",
    "except NameError:  \n",
    "    print (\"NameError: name 'ans' is not defined\")\n",
    "else:  \n",
    "    print (\"Success, no error!\")"
   ]
  },
  {
   "cell_type": "markdown",
   "metadata": {},
   "source": [
    "3. Please define a function and with this function, generate a `ValueError` exception simply by entering a string instead of numerical value."
   ]
  },
  {
   "cell_type": "code",
   "execution_count": 5,
   "metadata": {},
   "outputs": [
    {
     "name": "stdout",
     "output_type": "stream",
     "text": [
      "ValueError: could not convert string to float: 'DataCamp'\n"
     ]
    }
   ],
   "source": [
    "try:\n",
    "    print (float('DataCamp'))\n",
    "except ValueError:\n",
    "    print ('ValueError: could not convert string to float: \\'DataCamp\\'')\n",
    "else:\n",
    "    print ('Success, no error!')"
   ]
  }
 ],
 "metadata": {
  "kernelspec": {
   "display_name": "Python 3",
   "language": "python",
   "name": "python3"
  },
  "language_info": {
   "codemirror_mode": {
    "name": "ipython",
    "version": 3
   },
   "file_extension": ".py",
   "mimetype": "text/x-python",
   "name": "python",
   "nbconvert_exporter": "python",
   "pygments_lexer": "ipython3",
   "version": "3.7.6"
  }
 },
 "nbformat": 4,
 "nbformat_minor": 4
}
