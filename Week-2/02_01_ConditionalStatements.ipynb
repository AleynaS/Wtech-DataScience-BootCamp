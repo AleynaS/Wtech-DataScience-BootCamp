{
 "cells": [
  {
   "cell_type": "markdown",
   "metadata": {},
   "source": [
    "# Assignments for \"Conditional Statements\""
   ]
  },
  {
   "cell_type": "markdown",
   "metadata": {},
   "source": [
    "1. Please get Celcius or Fahrenheit degrees from users and type a code to convert these heat units to each other.  \n",
    "    For conversion, please use this formula: C = (5/9) * (F - 32)\n",
    "    \n",
    "        Example : \"40C\" --> \"104F\"\n",
    "                  \"52F\" --> \"11.1C\""
   ]
  },
  {
   "cell_type": "raw",
   "metadata": {},
   "source": [
    "user_value= str(input('Enter the temperature with X C/F :'))\n",
    "a=user_value[-1]\n",
    "#print(a)\n",
    "st = user_value[:-1]\n",
    "#print(st)\n",
    "\n",
    "if a == \"C\" or  a == \"c\":\n",
    "    Fahrenheit= (float(st))* 1.8+ 32\n",
    "    metin = '\"{}C\"-->\"{}F\"'\n",
    "    print(metin.format(st, Fahrenheit))\n",
    "elif a == \"F\" or a == \"f\" :\n",
    "    Celcius = (5/9) * ((float(st)) - 32)\n",
    "    metin = '\"{}F\"-->\"{}C\"'\n",
    "    print(metin.format(st, Celcius))\n"
   ]
  },
  {
   "cell_type": "markdown",
   "metadata": {},
   "source": [
    "2. A company decided to give a bonus of 5% to the employees if his/her year of service is more than 5 years.\n",
    "Ask the user for their salary and year of service and print the net bonus amount."
   ]
  },
  {
   "cell_type": "code",
   "execution_count": 46,
   "metadata": {},
   "outputs": [
    {
     "name": "stdin",
     "output_type": "stream",
     "text": [
      "Please enter the salary ($) 1000\n",
      "Please enter the year of service: 5\n"
     ]
    },
    {
     "name": "stdout",
     "output_type": "stream",
     "text": [
      "Your net bonus amount is:  50.0\n"
     ]
    }
   ],
   "source": [
    "user_salary=int(input('Please enter the salary ($)'))\n",
    "user_year= int(input('Please enter the year of service:'))\n",
    "if user_year >= 5:   \n",
    "    bonus_amount=user_salary*(5/100)\n",
    "    print (\"Your net bonus amount is: \", bonus_amount) \n",
    "elif user_year < 5:\n",
    "    print (\"You have to work at least 5 years for bonus! \") "
   ]
  },
  {
   "cell_type": "markdown",
   "metadata": {},
   "source": [
    "3. Take input of ages of 3 people by the user and determine the oldest and youngest among them."
   ]
  },
  {
   "cell_type": "code",
   "execution_count": 24,
   "metadata": {},
   "outputs": [
    {
     "name": "stdin",
     "output_type": "stream",
     "text": [
      "Please enter the age  85\n",
      "Please enter the age  11\n",
      "Please enter the age  36\n"
     ]
    },
    {
     "name": "stdout",
     "output_type": "stream",
     "text": [
      "[85, 11, 36]\n",
      "[11, 36, 85]\n",
      "The youngest 11 years old and the oldest 85 years old \n"
     ]
    }
   ],
   "source": [
    "agelist = []\n",
    "sortedlist=[]\n",
    "for x in set(range(3)):\n",
    "    agelist.append(int(input('Please enter the age ')))\n",
    "               \n",
    "print(agelist, sep=' ')\n",
    "sortedlist = agelist.sort()                           \n",
    "print(agelist, sep=' ')\n",
    "metin = 'The youngest {} years old and the oldest {} years old '\n",
    "print(metin.format(agelist[0], agelist[-1]))           "
   ]
  },
  {
   "cell_type": "markdown",
   "metadata": {},
   "source": [
    "4. A student will not be allowed to attend to the exam if his / her attendance to classes is less than 75%. Take followings input from the user:\n",
    "    - Number of classes held,\n",
    "    - Number of classes attended.\n",
    "   \n",
    "    Then, print the percentage of classes attended and whether the student is allowed to attend in an exam or not."
   ]
  },
  {
   "cell_type": "code",
   "execution_count": 27,
   "metadata": {},
   "outputs": [
    {
     "name": "stdout",
     "output_type": "stream",
     "text": [
      "If Percentage>%75 you can take the exam,otherwise you cannot take the exam !!\n"
     ]
    },
    {
     "name": "stdin",
     "output_type": "stream",
     "text": [
      "Please enter the number of classes held 200\n",
      "Please enter the number of classes attended: 150\n"
     ]
    },
    {
     "name": "stdout",
     "output_type": "stream",
     "text": [
      "Percentage of attendence : 75.0\n",
      "You can take the exam\n"
     ]
    }
   ],
   "source": [
    "print(\"If Percentage>%75 you can take the exam,otherwise you cannot take the exam !!\")\n",
    "number_of_classes_held=int(input('Please enter the number of classes held'))\n",
    "number_of_classes_attended= int(input('Please enter the number of classes attended:'))\n",
    "percentage_of_attended= (number_of_classes_attended/number_of_classes_held)*100\n",
    "print(\"Percentage of attendence :\", percentage_of_attended)\n",
    "\n",
    "if percentage_of_attended>=75:\n",
    "    print(\"You can take the exam\")\n",
    "else:\n",
    "    print(\"You can not take the exam\")"
   ]
  },
  {
   "cell_type": "markdown",
   "metadata": {},
   "source": [
    "5. In this exercise, you will create a program that reads a letter of the alphabet from the user. According to the answer:\n",
    "\n",
    "    - If the user enters `a, e, i, o, u`, then your program should display a message indicating that the entered letter is a vowel.\n",
    "    - If the user enters `y`, then your program should display a message indicating that y is sometimes a vowel and sometimes a consonant.\n",
    "    - Otherwise, your program should display a message indicating that the letter is a consonant."
   ]
  },
  {
   "cell_type": "code",
   "execution_count": 31,
   "metadata": {},
   "outputs": [
    {
     "name": "stdin",
     "output_type": "stream",
     "text": [
      "Enter a letter for vowel/consonant check l\n"
     ]
    },
    {
     "name": "stdout",
     "output_type": "stream",
     "text": [
      "Your letter is a consonant!\n"
     ]
    }
   ],
   "source": [
    "vowel_list = ['a','e','i','o','u']\n",
    "user_letter=str(input('Enter a letter for vowel/consonant check'))\n",
    "if user_letter in vowel_list:\n",
    "    print(\"Your letter is a vowel!\")\n",
    "elif user_letter == \"y\":\n",
    "    print(\"Your letter is 'y' this letter is sometimes a vowel sometimes a consonant!\")\n",
    "else:\n",
    "    print(\"Your letter is a consonant!\")"
   ]
  }
 ],
 "metadata": {
  "kernelspec": {
   "display_name": "Python 3",
   "language": "python",
   "name": "python3"
  },
  "language_info": {
   "codemirror_mode": {
    "name": "ipython",
    "version": 3
   },
   "file_extension": ".py",
   "mimetype": "text/x-python",
   "name": "python",
   "nbconvert_exporter": "python",
   "pygments_lexer": "ipython3",
   "version": "3.7.6"
  }
 },
 "nbformat": 4,
 "nbformat_minor": 4
}
