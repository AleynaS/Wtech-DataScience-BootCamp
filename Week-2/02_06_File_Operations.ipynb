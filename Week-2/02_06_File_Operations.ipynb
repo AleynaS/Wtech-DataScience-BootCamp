{
 "cells": [
  {
   "cell_type": "markdown",
   "metadata": {},
   "source": [
    "# Assignments for \"File Operations\""
   ]
  },
  {
   "cell_type": "markdown",
   "metadata": {},
   "source": [
    "1. Please write a poem you wanted in a `.txt` file and save it to the disk."
   ]
  },
  {
   "cell_type": "code",
   "execution_count": 15,
   "metadata": {},
   "outputs": [],
   "source": [
    "with open(\"sample_new.txt\",'w') as f: \n",
    "    f.write(\"\"\"-1. ŞİİR- \\n Senelerce senelerce evveldi\\n\n",
    "    Bir deniz ülkesinde\\n\n",
    "    Yaşayan bir kız vardı bileceksiniz \\n\n",
    "    İsmi; Annabel Lee \\n\n",
    "    Hiç birşey düşünmezdi sevilmekten \\n\n",
    "    Sevmekten başka beni \\n\n",
    "    O çocuk ben çocuk, memleketimiz \\n\n",
    "    O deniz ülkesiydi \\n\n",
    "    Sevdalı değil karasevdalıydık\\n\n",
    "    Ben ve Annabel Lee \\n\n",
    "    Göklerde uçan melekler\\n\n",
    "    Kıskanırlardı bizi\\n\n",
    "    Bir gün işte bu yüzden göze geldi\\n\n",
    "    O deniz ülkesinde\\n\n",
    "    Üşüdü bir rüzgarından bulutun\\n\n",
    "    Güzelim Annabel Lee \\n\n",
    "    Götürdüler el üstünde\\n\n",
    "    Koyup gittiler beni\\n\n",
    "    Mezarı oradadır şimdi\\n\n",
    "    O deniz ülkesinde\\n\n",
    "    Biz daha bahtiyardık meleklerden\\n\n",
    "    \\n\"\"\")\n",
    "\n",
    "    f.close()"
   ]
  },
  {
   "cell_type": "markdown",
   "metadata": {},
   "source": [
    "2. Append a new poem into the file you have created."
   ]
  },
  {
   "cell_type": "code",
   "execution_count": 16,
   "metadata": {},
   "outputs": [],
   "source": [
    "with open(\"sample_new.txt\",'a') as f: \n",
    "    f.write(\"\"\"-2.ŞİİR- SYLVIA PLATH\\n\n",
    "    Yitip gidiyor dünya yumunca gözlerimi;\\n\n",
    "    Ve doğuyor yeniden gözlerimi açınca.\\n\n",
    "    (Ben kafamın içinde kurdum sanırım seni.)\\n\n",
    "    Dans ederek gidiyor yıldızlar kızıl – mavi,\\n\n",
    "    Acımasız karanlık ilerliyor dört nala;\\n\n",
    "    Yitip gidiyor dünya yumunca gözlerimi.\\n\n",
    "    Düşledim yatağına büyüyle çektiğini\\n\n",
    "    Delice şakıyarak öptüğünü çılgınca.\\n\n",
    "    (Ben kafamın içinde kurdum sanırım seni.)\\n\n",
    "    \\n\"\"\")\n",
    "    f.close()"
   ]
  },
  {
   "cell_type": "markdown",
   "metadata": {},
   "source": [
    "3. Read and print all poems."
   ]
  },
  {
   "cell_type": "code",
   "execution_count": 17,
   "metadata": {},
   "outputs": [],
   "source": [
    "with open(\"sample_new.txt\", \"r\") as f:\n",
    "    lines=f.read()\n",
    "    p"
   ]
  },
  {
   "cell_type": "code",
   "execution_count": null,
   "metadata": {},
   "outputs": [],
   "source": []
  }
 ],
 "metadata": {
  "kernelspec": {
   "display_name": "Python 3",
   "language": "python",
   "name": "python3"
  },
  "language_info": {
   "codemirror_mode": {
    "name": "ipython",
    "version": 3
   },
   "file_extension": ".py",
   "mimetype": "text/x-python",
   "name": "python",
   "nbconvert_exporter": "python",
   "pygments_lexer": "ipython3",
   "version": "3.7.6"
  }
 },
 "nbformat": 4,
 "nbformat_minor": 4
}
