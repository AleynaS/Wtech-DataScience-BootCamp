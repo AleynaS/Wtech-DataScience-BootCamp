{
 "cells": [
  {
   "cell_type": "markdown",
   "metadata": {
    "colab_type": "text",
    "id": "zTOA3yGE7hox"
   },
   "source": [
    "# <font color=blue>Assignments for \"Combining DataFrames\"</font>\n",
    "\n",
    "\n",
    "For Pandas assignments, you are going to use [Titanic](https://www.kaggle.com/c/titanic/download/GQf0y8ebHO0C4JXscPPp%2Fversions%2FXkNkvXwqPPVG0Qt3MtQT%2Ffiles%2Ftrain.csv) (train.csv) dataset. Download the dataset and load to a data frame. We also need [test set](https://www.kaggle.com/c/titanic/download/GQf0y8ebHO0C4JXscPPp%2Fversions%2FXkNkvXwqPPVG0Qt3MtQT%2Ffiles%2Ftest.csv) (test.csv) for this assignment.\n",
    "\n",
    "1. Read both datasets and concatenate test set to train set. Print lenght of new dataset."
   ]
  },
  {
   "cell_type": "code",
   "execution_count": 17,
   "metadata": {},
   "outputs": [
    {
     "name": "stdout",
     "output_type": "stream",
     "text": [
      "Shape of dataframe :   (1309, 12) \n",
      "Size of this datafframe :  15708\n"
     ]
    }
   ],
   "source": [
    "import pandas as pd\n",
    "data_train= pd.read_csv(\"train.csv\") #reads and creates data frame\n",
    "data_test= pd.read_csv(\"test.csv\") #reads and creates data frame\n",
    "\n",
    "\n",
    "all_datasets = pd.concat([data_train,data_test])\n",
    "print(\"Shape of dataframe :  \",all_datasets.shape, \"\\nSize of this datafframe : \",all_datasets.size )\n"
   ]
  },
  {
   "cell_type": "markdown",
   "metadata": {},
   "source": [
    "2. Below are 2 groups of values for 2 datasets. The first one is for features and the second one is for target. Using these, create 2 data frames with the methods you have learned in the previous lessons. Then, merge them with all 4 methods and display lenghts of them.\n",
    "\n",
    "```  python\n",
    "id,age,sex,beats_per_sec,cholesterol\n",
    "1001,63,Male,145,233\n",
    "1001,37,Male,130,250\n",
    "1002,41,Female,130,204\n",
    "1002,56,Male,120,236\n",
    "1003,57,Female,120,354\n",
    "1004,57,Male,140,192\n",
    "1005,56,Female,140,294\n",
    "1006,44,Male,120,263\n",
    "1007,52,Male,172,199\n",
    "1007,57,Male,150,168\n",
    "1008,54,Male,140,239\n",
    "1008,48,Female,150,264\n",
    "\n",
    "\n",
    "id,target\n",
    "1001,0\n",
    "1002,1\n",
    "1004,0\n",
    "1005,1\n",
    "1007,0\n",
    "1008,1\n",
    "```"
   ]
  },
  {
   "cell_type": "code",
   "execution_count": 33,
   "metadata": {},
   "outputs": [
    {
     "name": "stdout",
     "output_type": "stream",
     "text": [
      "Size with Inner Join: (10, 6)\n",
      "Size with Left Join: (12, 6)\n",
      "Size with Right Join: (10, 6)\n",
      "Size with Outer Join: (12, 6)\n"
     ]
    }
   ],
   "source": [
    "features = pd.DataFrame({'id':  [1001,1001,1002,1002,1003,1004,1005,1006,1007,1007,1008,1008],\n",
    "                         'age':  [63,37,41,56,57,57,56,44,52,57,54,48],\n",
    "                         'sex': ['Male','Male','Female','Male','Female','Male','Female','Male','Male','Male','Male','Female'],\n",
    "                         'beats_per_sec' :[145,130,130,120,120,140,140,120,172,150,140,150],\n",
    "                         'cholesterol':[233,250,204,236,354,192,294,263,199,168,239,264]\n",
    "                        \n",
    "                        })\n",
    "\n",
    "target= pd.DataFrame({'id':[1001,1002,1004,1005,1007,1008],\n",
    "         'target':[0,1,0,1,0,1]\n",
    "        \n",
    "        })\n",
    "#print(\"Inner Join:\\n\",pd.merge(features, target))  #defaukt inner join\n",
    "#print(\"Left join: \\n\",pd.merge(features, target,how='left'),'\\n')#left join\n",
    "#print(\"Right Join:\\n\",pd.merge(features, target,how='right') )#right join\n",
    "#print(\"Outer join\\n\",pd.merge(features, target,how='outer')) #outer join\n",
    "\n",
    "print(\"Size with Inner Join:\",pd.merge(features, target).shape )  #defaukt inner join\n",
    "print(\"Size with Left Join:\",pd.merge(features, target,how='left').shape )#left join\n",
    "print(\"Size with Right Join:\",pd.merge(features, target,how='right').shape) #right join\n",
    "print(\"Size with Outer Join:\",pd.merge(features, target,how='outer').shape) #outer join\n",
    "\n"
   ]
  },
  {
   "cell_type": "code",
   "execution_count": null,
   "metadata": {},
   "outputs": [],
   "source": []
  }
 ],
 "metadata": {
  "kernelspec": {
   "display_name": "Python 3",
   "language": "python",
   "name": "python3"
  },
  "language_info": {
   "codemirror_mode": {
    "name": "ipython",
    "version": 3
   },
   "file_extension": ".py",
   "mimetype": "text/x-python",
   "name": "python",
   "nbconvert_exporter": "python",
   "pygments_lexer": "ipython3",
   "version": "3.7.6"
  }
 },
 "nbformat": 4,
 "nbformat_minor": 4
}
