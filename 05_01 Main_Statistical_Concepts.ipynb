{
 "cells": [
  {
   "cell_type": "markdown",
   "metadata": {},
   "source": [
    "# <font color=blue>Assignments for \"Main Statistical Concepts\"</font>"
   ]
  },
  {
   "cell_type": "markdown",
   "metadata": {},
   "source": [
    "Please upload your solutions to the following assignments as Jupyter Notebook to your GitHub account and share the GitHub link with the button below. You can talk to your mentor about the issues you have in mind or ask Slack at office time."
   ]
  },
  {
   "cell_type": "markdown",
   "metadata": {},
   "source": [
    "1. Analyze the central tendency and distribution measurements with the mathematical formula given above and the built-in codes available in python through 3 different data that you will generate using the numpy library !!!"
   ]
  },
  {
   "cell_type": "code",
   "execution_count": 17,
   "metadata": {},
   "outputs": [
    {
     "name": "stdout",
     "output_type": "stream",
     "text": [
      "mean of data1 with built-in Python code:  49.70300000915418\n",
      "mean of data2 with built-in Python code:  68.5218868888451\n",
      "mean of data3 with built-in Python code:  16.838077823705618\n",
      "mean of data1 with numpy: 49.70300000915418\n",
      "mean of data2 with numpy: 68.5218868888451\n",
      "mean of data3 with numpy: 16.838077823705618\n",
      "median of data1 with statistics module: 46.50229984145096\n",
      "median of data2 with statistics module: 68.93715729941444\n",
      "median of data3 with statistics module: 18.311900464893142\n",
      "mode of data1: 28.958615262565658\n",
      "mode of data2: 61.192773311243315\n",
      "mode of data3: 3.607323325281765\n",
      "variance of data1 with numpy: 185.1196960216497\n",
      "variance of data2 with numpy: 22.95107710530593\n",
      "variance of data3 with numpy: 69.00836148959613\n",
      "standard deviation of data1 with numpy: 13.605869910507366\n",
      "standard deviation of data2 with numpy: 4.790728243733507\n",
      "standard deviation of data3 with numpy: 8.30712715020037\n"
     ]
    }
   ],
   "source": [
    "import numpy as np\n",
    "import statistics\n",
    "\n",
    "\n",
    "def modefunc(data):\n",
    "    (values, counts) = np.unique(data, return_counts=True)\n",
    "    ind = np.argmax(counts)\n",
    "    return values[ind]\n",
    "\n",
    "\n",
    "data1 = np.random.normal(50, 10, 10)\n",
    "data2 = np.random.normal(70, 5, 13)\n",
    "data3 = np.random.normal(27, 8, 11)\n",
    "\n",
    "print(\"mean of data1 with built-in Python code: \",sum(data1)/len(data1))\n",
    "print(\"mean of data2 with built-in Python code: \",sum(data2)/len(data2))\n",
    "print(\"mean of data3 with built-in Python code: \",sum(data3)/len(data3))\n",
    "\n",
    "print(\"mean of data1 with numpy:\",np.mean(data1))\n",
    "print(\"mean of data2 with numpy:\",np.mean(data2))\n",
    "print(\"mean of data3 with numpy:\",np.mean(data3))\n",
    "\n",
    "print(\"median of data1 with statistics module:\",statistics.median(data1))\n",
    "print(\"median of data2 with statistics module:\",statistics.median(data2))\n",
    "print(\"median of data3 with statistics module:\",statistics.median(data3))\n",
    "\n",
    "print(\"mode of data1:\",modefunc(data1))\n",
    "print(\"mode of data2:\",modefunc(data2))\n",
    "print(\"mode of data3:\",modefunc(data3))\n",
    "\n",
    "print(\"variance of data1 with numpy:\",np.var(data1, ddof=1))\n",
    "print(\"variance of data2 with numpy:\",np.var(data2, ddof=1))\n",
    "print(\"variance of data3 with numpy:\",np.var(data3, ddof=1))\n",
    "\n",
    "print(\"standard deviation of data1 with numpy:\",np.std(data1, ddof=1))\n",
    "print(\"standard deviation of data2 with numpy:\",np.std(data2, ddof=1))\n",
    "print(\"standard deviation of data3 with numpy:\",np.std(data3, ddof=1))\n",
    "\n",
    "print(\"standard error of data1 with numpy:\",np.std(data1 ,ddof=1) / np.sqrt(len(data1)))\n",
    "print(\"standard error of data2 with numpy:\",np.std(data2 ,ddof=1) / np.sqrt(len(data2)))\n",
    "print(\"standard error of data3 with numpy:\",np.std(data3 ,ddof=1) / np.sqrt(len(data3)))"
   ]
  },
  {
   "cell_type": "code",
   "execution_count": null,
   "metadata": {},
   "outputs": [],
   "source": []
  }
 ],
 "metadata": {
  "kernelspec": {
   "display_name": "Python 3",
   "language": "python",
   "name": "python3"
  },
  "language_info": {
   "codemirror_mode": {
    "name": "ipython",
    "version": 3
   },
   "file_extension": ".py",
   "mimetype": "text/x-python",
   "name": "python",
   "nbconvert_exporter": "python",
   "pygments_lexer": "ipython3",
   "version": "3.7.3"
  }
 },
 "nbformat": 4,
 "nbformat_minor": 4
}
