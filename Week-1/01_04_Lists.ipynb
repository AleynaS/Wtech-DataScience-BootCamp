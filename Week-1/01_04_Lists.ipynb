{
 "cells": [
  {
   "cell_type": "markdown",
   "metadata": {},
   "source": [
    "# Assignments for \"Lists\" "
   ]
  },
  {
   "cell_type": "markdown",
   "metadata": {},
   "source": [
    "1. Write a code to compute the sum of the two lowest numbers and the two highest numbers in the following list.\n",
    "\n",
    "        my_list = [34, 56, 76, 45, 2, 12, 67, 98, 37, 54, 66]"
   ]
  },
  {
   "cell_type": "code",
   "execution_count": 87,
   "metadata": {},
   "outputs": [
    {
     "name": "stdout",
     "output_type": "stream",
     "text": [
      "[2, 12, 34, 37, 45, 54, 56, 66, 67, 76, 98] \n",
      "\n",
      "Array size: 11\n",
      "Lowest two numbers in my list:  [2, 12]\n",
      "Highest two numbers in my list:  [76, 98]\n",
      "Sum of Lowest two numbers in my list:  14\n",
      "Sum of Highest two numbers in my list:  174\n"
     ]
    }
   ],
   "source": [
    "my_list = [34, 56, 76, 45, 2, 12, 67, 98, 37, 54, 66]\n",
    "my_list.sort()\n",
    "print(my_list, \"\\n\")\n",
    "print(\"Array size:\", len(my_list))\n",
    "print(\"Lowest two numbers in my list: \", my_list[0:2])\n",
    "print(\"Highest two numbers in my list: \", my_list[9:11])\n",
    "\n",
    "sum_of_lowest_numbers= my_list[0]+my_list[1]\n",
    "sum_of_highest_numbers=my_list[-1]+my_list[-2]\n",
    "print(\"Sum of Lowest two numbers in my list: \", sum_of_lowest_numbers )\n",
    "print(\"Sum of Highest two numbers in my list: \", sum_of_highest_numbers )"
   ]
  },
  {
   "cell_type": "markdown",
   "metadata": {},
   "source": [
    "2. The following two lists contain student names and scores. Write a code that gets the name from the user and prints the score of that student.\n",
    "\n",
    "        names = [\"David\", \"Michael\", \"John\", \"James\", \"Greg\", \"Mark\", \"William\", \"Richard\", \"Thomas\", \"Steven\", \n",
    "                 \"Mary\", \"Susan\", \"Maria\", \"Karen\", \"Lisa\", \"Linda\", \"Donna\", \"Patricia\", \"Debra\", \"Eric\"]\n",
    "\n",
    "        scores = [99, 87, 78, 86, 68, 94, 76, 97, 56, 98, 76, 87, 79, 90, 73, 93, 82, 69, 97, 98]"
   ]
  },
  {
   "cell_type": "code",
   "execution_count": 84,
   "metadata": {},
   "outputs": [
    {
     "name": "stdout",
     "output_type": "stream",
     "text": [
      "David 99\n",
      "Michael 87\n",
      "John 78\n",
      "James 86\n",
      "Greg 68\n",
      "Mark 94\n",
      "William 76\n",
      "Richard 97\n",
      "Thomas 56\n",
      "Steven 98\n",
      "Mary 76\n",
      "Susan 87\n",
      "Maria 79\n",
      "Karen 90\n",
      "Lisa 73\n",
      "Linda 93\n",
      "Donna 82\n",
      "Patricia 69\n",
      "Debra 97\n",
      "Eric 98\n"
     ]
    }
   ],
   "source": [
    "names = [\"David\", \"Michael\", \"John\", \"James\", \"Greg\", \"Mark\", \"William\", \"Richard\", \"Thomas\", \"Steven\", \n",
    "                 \"Mary\", \"Susan\", \"Maria\", \"Karen\", \"Lisa\", \"Linda\", \"Donna\", \"Patricia\", \"Debra\", \"Eric\"]\n",
    "\n",
    "scores = [99, 87, 78, 86, 68, 94, 76, 97, 56, 98, 76, 87, 79, 90, 73, 93, 82, 69, 97, 98]\n",
    "\n",
    "for x,y in zip(names,scores):\n",
    "    print (x, y)"
   ]
  },
  {
   "cell_type": "markdown",
   "metadata": {},
   "source": [
    "3. By using the two lists above, what is the maximum score and how many students got that score?"
   ]
  },
  {
   "cell_type": "code",
   "execution_count": 103,
   "metadata": {},
   "outputs": [
    {
     "name": "stdout",
     "output_type": "stream",
     "text": [
      "[56, 68, 69, 73, 76, 76, 78, 79, 82, 86, 87, 87, 90, 93, 94, 97, 97, 98, 98, 99] \n",
      "\n",
      "Highest  score in scores list:  99\n",
      "Number of 1 students get highest score 99. \n"
     ]
    }
   ],
   "source": [
    "names = [\"David\", \"Michael\", \"John\", \"James\", \"Greg\", \"Mark\", \"William\", \"Richard\", \"Thomas\", \"Steven\", \n",
    "                 \"Mary\", \"Susan\", \"Maria\", \"Karen\", \"Lisa\", \"Linda\", \"Donna\", \"Patricia\", \"Debra\", \"Eric\"]\n",
    "\n",
    "scores = [99, 87, 78, 86, 68, 94, 76, 97, 56, 98, 76, 87, 79, 90, 73, 93, 82, 69, 97, 98]\n",
    "scores.sort()\n",
    "print(scores, \"\\n\")\n",
    "\n",
    "print(\"Highest  score in scores list: \", scores[-1] )\n",
    "highest_students_number= scores.count(scores[-1])\n",
    "\n",
    "text = \"Number of {} students get highest score {}. \"\n",
    "\n",
    "print(text.format(highest_students_number,scores[-1]))\n"
   ]
  },
  {
   "cell_type": "markdown",
   "metadata": {},
   "source": [
    "4. We can confuse about how many days a month is. Create a list to handle it. You will have month names and day counts in your list together as a nested list."
   ]
  },
  {
   "cell_type": "code",
   "execution_count": 130,
   "metadata": {},
   "outputs": [
    {
     "name": "stdout",
     "output_type": "stream",
     "text": [
      "January\n",
      "(2, 31)\n",
      "February\n",
      "(5, 29)\n",
      "March\n",
      "(6, 31)\n",
      "April\n",
      "(2, 30)\n",
      "May\n",
      "(4, 31)\n",
      "June\n",
      "(0, 30)\n",
      "July\n",
      "(2, 31)\n",
      "August\n",
      "(5, 31)\n",
      "September\n",
      "(1, 30)\n",
      "October\n",
      "(3, 31)\n",
      "November\n",
      "(6, 30)\n"
     ]
    }
   ],
   "source": [
    "import calendar\n",
    "\n",
    "for i in range(1,12):\n",
    "  print(calendar.month_name[i])\n",
    "\n",
    "  print(calendar.monthrange(2020,i))\n"
   ]
  },
  {
   "cell_type": "markdown",
   "metadata": {},
   "source": [
    "5. Now create lists of months for each season. Get month names and day counts from the list that you create before with slicing. Name the lists with seasons."
   ]
  },
  {
   "cell_type": "code",
   "execution_count": 128,
   "metadata": {},
   "outputs": [],
   "source": [
    "spring = ['March', 'April', 'May']\n",
    "summer = ['June', 'July', 'August']\n",
    "fall = ['September', 'October', 'November']\n",
    "winter = ['December', 'January', 'February']\n",
    "months_by_season = [spring, summer, fall, winter]\n",
    "*************\n"
   ]
  },
  {
   "cell_type": "markdown",
   "metadata": {},
   "source": [
    "6. Finally, from the list in the previous question, calculate how many days the summer season lasts."
   ]
  },
  {
   "cell_type": "code",
   "execution_count": 131,
   "metadata": {},
   "outputs": [
    {
     "ename": "TypeError",
     "evalue": "'<=' not supported between instances of 'int' and 'str'",
     "output_type": "error",
     "traceback": [
      "\u001b[1;31m---------------------------------------------------------------------------\u001b[0m",
      "\u001b[1;31mTypeError\u001b[0m                                 Traceback (most recent call last)",
      "\u001b[1;32m<ipython-input-131-b2002107da98>\u001b[0m in \u001b[0;36m<module>\u001b[1;34m\u001b[0m\n\u001b[0;32m      2\u001b[0m \u001b[1;33m\u001b[0m\u001b[0m\n\u001b[0;32m      3\u001b[0m \u001b[1;32mfor\u001b[0m \u001b[0mi\u001b[0m \u001b[1;32min\u001b[0m \u001b[0mmonths_by_season\u001b[0m\u001b[1;33m[\u001b[0m\u001b[1;36m1\u001b[0m\u001b[1;33m]\u001b[0m\u001b[1;33m:\u001b[0m\u001b[1;33m\u001b[0m\u001b[1;33m\u001b[0m\u001b[0m\n\u001b[1;32m----> 4\u001b[1;33m     \u001b[0mprint\u001b[0m\u001b[1;33m(\u001b[0m\u001b[0mcalendar\u001b[0m\u001b[1;33m.\u001b[0m\u001b[0mmonthrange\u001b[0m\u001b[1;33m(\u001b[0m\u001b[1;36m2020\u001b[0m\u001b[1;33m,\u001b[0m\u001b[0mi\u001b[0m\u001b[1;33m)\u001b[0m\u001b[1;33m)\u001b[0m\u001b[1;33m\u001b[0m\u001b[1;33m\u001b[0m\u001b[0m\n\u001b[0m",
      "\u001b[1;32m~\\anaconda3\\lib\\calendar.py\u001b[0m in \u001b[0;36mmonthrange\u001b[1;34m(year, month)\u001b[0m\n\u001b[0;32m    121\u001b[0m     \"\"\"Return weekday (0-6 ~ Mon-Sun) and number of days (28-31) for\n\u001b[0;32m    122\u001b[0m        year, month.\"\"\"\n\u001b[1;32m--> 123\u001b[1;33m     \u001b[1;32mif\u001b[0m \u001b[1;32mnot\u001b[0m \u001b[1;36m1\u001b[0m \u001b[1;33m<=\u001b[0m \u001b[0mmonth\u001b[0m \u001b[1;33m<=\u001b[0m \u001b[1;36m12\u001b[0m\u001b[1;33m:\u001b[0m\u001b[1;33m\u001b[0m\u001b[1;33m\u001b[0m\u001b[0m\n\u001b[0m\u001b[0;32m    124\u001b[0m         \u001b[1;32mraise\u001b[0m \u001b[0mIllegalMonthError\u001b[0m\u001b[1;33m(\u001b[0m\u001b[0mmonth\u001b[0m\u001b[1;33m)\u001b[0m\u001b[1;33m\u001b[0m\u001b[1;33m\u001b[0m\u001b[0m\n\u001b[0;32m    125\u001b[0m     \u001b[0mday1\u001b[0m \u001b[1;33m=\u001b[0m \u001b[0mweekday\u001b[0m\u001b[1;33m(\u001b[0m\u001b[0myear\u001b[0m\u001b[1;33m,\u001b[0m \u001b[0mmonth\u001b[0m\u001b[1;33m,\u001b[0m \u001b[1;36m1\u001b[0m\u001b[1;33m)\u001b[0m\u001b[1;33m\u001b[0m\u001b[1;33m\u001b[0m\u001b[0m\n",
      "\u001b[1;31mTypeError\u001b[0m: '<=' not supported between instances of 'int' and 'str'"
     ]
    }
   ],
   "source": [
    "import calendar\n",
    "\n",
    "for i in months_by_season[1]:\n",
    "    print(calendar.monthrange(2020,i))\n",
    "    **************"
   ]
  },
  {
   "cell_type": "code",
   "execution_count": null,
   "metadata": {},
   "outputs": [],
   "source": []
  }
 ],
 "metadata": {
  "kernelspec": {
   "display_name": "Python 3",
   "language": "python",
   "name": "python3"
  },
  "language_info": {
   "codemirror_mode": {
    "name": "ipython",
    "version": 3
   },
   "file_extension": ".py",
   "mimetype": "text/x-python",
   "name": "python",
   "nbconvert_exporter": "python",
   "pygments_lexer": "ipython3",
   "version": "3.7.6"
  }
 },
 "nbformat": 4,
 "nbformat_minor": 4
}
