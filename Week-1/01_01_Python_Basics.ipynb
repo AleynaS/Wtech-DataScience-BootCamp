{
 "cells": [
  {
   "cell_type": "code",
   "execution_count": 40,
   "metadata": {},
   "outputs": [
    {
     "name": "stdout",
     "output_type": "stream",
     "text": [
      "My name and my surname is Aleyna Sarışın.\n",
      " `I don\"\"t want to be an \"artist\". I want to be a \"Data Scientist.\"`\n"
     ]
    }
   ],
   "source": [
    "#BootCampEnglishVerison Assignment1:Python Basics URL:https://bootrain.com/course/draft/1/2/1/#\n",
    "# Write a code that outputs your name and surname in one line.\n",
    "#Write a 1-line code that outputs your name and surname in two separate lines by using a single print() call.\n",
    "#Use print() function that returns the following text. Notice the quotes in the text. Those quotes should be seen in the output!:\n",
    "# `I don't want to be an \"artist\". I want to be a \"Data Scientist.\"` \n",
    "    \n",
    "#PART1\n",
    "\n",
    "name ='Aleyna'\n",
    "surname ='Sarışın'\n",
    "\n",
    "print (\"My name and my surname is\" , name , surname+'.')\n",
    "\n",
    "#PART2\n",
    "\n",
    "print( ' `I don\"\"t want to be an \"artist\". I want to be a \"Data Scientist.\"`')"
   ]
  },
  {
   "cell_type": "code",
   "execution_count": null,
   "metadata": {},
   "outputs": [],
   "source": [
    "\n"
   ]
  },
  {
   "cell_type": "code",
   "execution_count": null,
   "metadata": {},
   "outputs": [],
   "source": []
  },
  {
   "cell_type": "code",
   "execution_count": null,
   "metadata": {},
   "outputs": [],
   "source": []
  },
  {
   "cell_type": "code",
   "execution_count": null,
   "metadata": {},
   "outputs": [],
   "source": []
  }
 ],
 "metadata": {
  "kernelspec": {
   "display_name": "Python 3",
   "language": "python",
   "name": "python3"
  },
  "language_info": {
   "codemirror_mode": {
    "name": "ipython",
    "version": 3
   },
   "file_extension": ".py",
   "mimetype": "text/x-python",
   "name": "python",
   "nbconvert_exporter": "python",
   "pygments_lexer": "ipython3",
   "version": "3.7.6"
  }
 },
 "nbformat": 4,
 "nbformat_minor": 4
}
