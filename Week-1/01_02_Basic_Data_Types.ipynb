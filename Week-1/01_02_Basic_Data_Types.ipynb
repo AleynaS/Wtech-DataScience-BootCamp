{
 "cells": [
  {
   "cell_type": "markdown",
   "metadata": {},
   "source": [
    "#BootCampEnglishVerison Assignment2: Basic Data Types  URL:https://bootrain.com/course/draft/1/15/1/#\n",
    "\n",
    "1. Suppose you invested in Bitcoin at the end of 2017 when Bitcoin gained a lot of value. What would be your money at the end of a week if you had invested \\$1000 with an average daily increase of 12\\% ? You can solve the problem using Python.\n"
   ]
  },
  {
   "cell_type": "code",
   "execution_count": null,
   "metadata": {},
   "outputs": [],
   "source": [
    "##### Help\n",
    "\n",
    "# Create a variable capital ($1000)\n",
    "\n",
    "# Create a variable for daily growth (12%)\n",
    "\n",
    "# Create a variable for period (7)\n",
    "\n",
    "# Calculate the final growth rate\n",
    "\n",
    "# Calculate result\n",
    "\n",
    "# Print result"
   ]
  },
  {
   "cell_type": "markdown",
   "metadata": {},
   "source": [
    "2. Print the text in quotes with Python. However, you must get the numbers from variables using `.format()` notation. <br> Because the text is long, you might consider writing in two lines:\n",
    "\n",
    "        `\"When we buy bitcoin with 1000 USD at the beginning of the week, we would earn 1210.68 USD at the end of the week, with an average gain of 12\\%."
   ]
  },
  {
   "cell_type": "code",
   "execution_count": 8,
   "metadata": {},
   "outputs": [
    {
     "name": "stdout",
     "output_type": "stream",
     "text": [
      "Total Net Profit after 7 days :  1210.6814074060812\n",
      "Your TotalInvestment + Net Profit : 2210.6814074060812\n",
      " When we buy bitcoin with 1000 USD at the beginning of the week,\n",
      "we would earn 2210.6814074060812 USD at the end of the week, with an average gain of  12.0/%. \n"
     ]
    }
   ],
   "source": [
    "\n",
    "BitcoinInvestment= 1000\n",
    "DailyGrowth= 0.12\n",
    "Period= 7\n",
    "  \n",
    "\n",
    "TotalInvestment = BitcoinInvestment * (1 + DailyGrowth)**Period\n",
    "print(\"Total Net Profit after 7 days : \", TotalInvestment-BitcoinInvestment)\n",
    "print(\"Your TotalInvestment + Net Profit :\", TotalInvestment) \n",
    "\n",
    "\n",
    "metin = \"\"\" When we buy bitcoin with {} USD at the beginning of the week,\n",
    "we would earn {} USD at the end of the week, with an average gain of  {}/%. \"\"\"\n",
    "\n",
    "print(metin.format(BitcoinInvestment,TotalInvestment,(DailyGrowth)*100))\n"
   ]
  },
  {
   "cell_type": "markdown",
   "metadata": {},
   "source": [
    "3. Get the temperature in Fahrenheit from user and write a code to convert it to Celcius. For conversion, you can use this formula: C = (5/9) * (F - 32)\n",
    "\n",
    "        Enter the temperature in Fahrenheit: \n",
    "        user --> 26\n",
    "        output --> Temperature (C) : -3.33"
   ]
  },
  {
   "cell_type": "code",
   "execution_count": 21,
   "metadata": {},
   "outputs": [
    {
     "name": "stdin",
     "output_type": "stream",
     "text": [
      "Enter the temperature in Fahrenheit: 26\n"
     ]
    },
    {
     "name": "stdout",
     "output_type": "stream",
     "text": [
      "user--> 26\n",
      "output --> Temperature (C) : -3.3333333333333335\n"
     ]
    }
   ],
   "source": [
    "UserFahrenheit= input('Enter the temperature in Fahrenheit:')\n",
    "print(\"user-->\",UserFahrenheit)\n",
    "Celcius = (5/9) * (int(UserFahrenheit) - 32)\n",
    "print(\"output --> Temperature (C) :\",Celcius)"
   ]
  },
  {
   "cell_type": "markdown",
   "metadata": {},
   "source": [
    "4. Get a three digit number the from user and calculate the sum of the digits in the integer.\n",
    "\n",
    "        user --> 365\n",
    "        output --> \"The sum of digits in the number is 14"
   ]
  },
  {
   "cell_type": "code",
   "execution_count": 14,
   "metadata": {},
   "outputs": [
    {
     "name": "stdin",
     "output_type": "stream",
     "text": [
      "Enter a 3 digit number: 365\n"
     ]
    },
    {
     "name": "stdout",
     "output_type": "stream",
     "text": [
      "user--> 365\n",
      "output --> The sum of digits in the number is : 14\n"
     ]
    }
   ],
   "source": [
    "userValue= input('Enter a 3 digit number:')\n",
    "print(\"user-->\",userValue)\n",
    "\n",
    "hundred= int(userValue)//100\n",
    "tens= (int(userValue)%100)//10\n",
    "ones= int(userValue)%10\n",
    "print( \"output --> The sum of digits in the number is :\", hundred+tens+ones)\n"
   ]
  },
  {
   "cell_type": "markdown",
   "metadata": {},
   "source": [
    "5. Write some code to calculate the hypotenuse of a right angled triangle. Get the side lengths from the user.\n",
    "\n",
    "        user --> first side lenth : 6\n",
    "        user --> first side lenth : 8\n",
    "        output --> \"The length of the hypotenuse is 10"
   ]
  },
  {
   "cell_type": "code",
   "execution_count": 20,
   "metadata": {},
   "outputs": [
    {
     "name": "stdin",
     "output_type": "stream",
     "text": [
      "first side length: 6\n"
     ]
    },
    {
     "name": "stdout",
     "output_type": "stream",
     "text": [
      "user--> 6\n"
     ]
    },
    {
     "name": "stdin",
     "output_type": "stream",
     "text": [
      "second side length: 8\n"
     ]
    },
    {
     "name": "stdout",
     "output_type": "stream",
     "text": [
      "user--> 8\n",
      "The length of the hypotenuse is : 10.0\n"
     ]
    }
   ],
   "source": [
    "import math\n",
    "firstSideLength= input('first side length:')\n",
    "print(\"user-->\",firstSideLength)\n",
    "secondSideLength= input('second side length:')\n",
    "print(\"user-->\",secondSideLength)\n",
    "hypotenuse=math.sqrt(int(firstSideLength) ** 2 + int(secondSideLength) ** 2)\n",
    "print(\"The length of the hypotenuse is :\", hypotenuse ) "
   ]
  },
  {
   "cell_type": "code",
   "execution_count": null,
   "metadata": {},
   "outputs": [],
   "source": []
  },
  {
   "cell_type": "code",
   "execution_count": null,
   "metadata": {},
   "outputs": [],
   "source": []
  }
 ],
 "metadata": {
  "kernelspec": {
   "display_name": "Python 3",
   "language": "python",
   "name": "python3"
  },
  "language_info": {
   "codemirror_mode": {
    "name": "ipython",
    "version": 3
   },
   "file_extension": ".py",
   "mimetype": "text/x-python",
   "name": "python",
   "nbconvert_exporter": "python",
   "pygments_lexer": "ipython3",
   "version": "3.7.6"
  }
 },
 "nbformat": 4,
 "nbformat_minor": 4
}
