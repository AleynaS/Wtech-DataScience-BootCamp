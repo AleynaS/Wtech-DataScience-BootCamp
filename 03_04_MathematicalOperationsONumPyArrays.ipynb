{
 "cells": [
  {
   "cell_type": "markdown",
   "metadata": {},
   "source": [
    "# <font color=blue>Assignments for \"Mathematical Operations on NumPy Arrays\"</font>"
   ]
  },
  {
   "cell_type": "markdown",
   "metadata": {},
   "source": [
    "1. Load the array you saved in the previous lesson from the disk."
   ]
  },
  {
   "cell_type": "code",
   "execution_count": 6,
   "metadata": {},
   "outputs": [],
   "source": [
    "import numpy as np\n",
    "data=np.load('data.npy')"
   ]
  },
  {
   "cell_type": "markdown",
   "metadata": {},
   "source": [
    "2. Display the mean and the standard deviation for each column."
   ]
  },
  {
   "cell_type": "code",
   "execution_count": 10,
   "metadata": {},
   "outputs": [
    {
     "name": "stdout",
     "output_type": "stream",
     "text": [
      "Mean for each column   : 0.05\n",
      "Standart deviation for each column : 0.21794494717703364\n",
      "Mean for each column   : 35.64994\n",
      "Standart deviation for each column : 8.074558574770514\n",
      "Mean for each column   : 31.442185000000002\n",
      "Standart deviation for each column : 9.133896757971101\n",
      "Mean for each column   : 18.958999999999996\n",
      "Standart deviation for each column : 18.779266732223597\n",
      "Mean for each column   : 4.224999999999999\n",
      "Standart deviation for each column : 0.8080068069020212\n"
     ]
    }
   ],
   "source": [
    "for i in range(len(data[0])): #returns first column numbers\n",
    "    print(\"Mean for each column   :\", np.mean(data[:,i]))\n",
    "    print(\"Standart deviation for each column :\", np.std(data[:,i]))\n"
   ]
  },
  {
   "cell_type": "markdown",
   "metadata": {},
   "source": [
    "3. Subtract 1, 25, 25, 10, 4 from columns in order. (Remember it can be subtracted in one line of code.)"
   ]
  },
  {
   "cell_type": "code",
   "execution_count": 24,
   "metadata": {},
   "outputs": [
    {
     "name": "stdout",
     "output_type": "stream",
     "text": [
      "Substracting   : \n",
      " [[ 0.00000e+00 -2.40000e+01 -2.40000e+01 -9.00000e+00 -3.00000e+00]\n",
      " [-1.00000e+00  1.26878e+01  1.24016e+01  2.70000e-01  4.00000e-01]\n",
      " [-1.00000e+00  1.22003e+01  5.43760e+00  6.80700e+01  0.00000e+00]\n",
      " [-1.00000e+00  1.06846e+01  1.72660e+00  3.27700e+01  5.00000e-01]\n",
      " [-1.00000e+00  1.14171e+01  3.69910e+00  4.86000e+00  1.00000e-01]\n",
      " [-1.00000e+00  1.10535e+01  6.21350e+00  2.66800e+01  1.20000e+00]\n",
      " [-1.00000e+00  1.21958e+01  5.62410e+00  4.03300e+01  8.00000e-01]\n",
      " [-1.00000e+00  1.19653e+01  2.76330e+00 -3.07000e+00  3.00000e-01]\n",
      " [-1.00000e+00  1.38930e+01  1.44830e+00  1.62000e+00  2.00000e-01]\n",
      " [-1.00000e+00  1.23773e+01  1.13855e+01  5.30000e-01  8.00000e-01]\n",
      " [-1.00000e+00  1.08861e+01  1.06950e+00  1.84900e+01  9.00000e-01]\n",
      " [-1.00000e+00  1.24635e+01  1.13113e+01  5.29000e+00  3.00000e-01]\n",
      " [-1.00000e+00  1.20201e+01  1.10845e+01  0.00000e+00  1.00000e-01]\n",
      " [-1.00000e+00  1.26546e+01  1.66980e+00 -5.50000e+00  5.00000e-01]\n",
      " [-1.00000e+00  1.25318e+01  4.84800e+00  7.58000e+00  6.00000e-01]\n",
      " [-1.00000e+00  1.40388e+01  1.91533e+01 -2.48000e+00  5.00000e-01]\n",
      " [-1.00000e+00  1.33570e+01  1.98686e+01  5.00000e-02  1.00000e-01]\n",
      " [-1.00000e+00  1.07018e+01  3.14950e+00 -3.75000e+00  1.00000e-01]\n",
      " [-1.00000e+00  1.26883e+01  1.23968e+01  6.30000e-01  1.00000e-01]\n",
      " [-1.00000e+00  1.71821e+01  1.75928e+01 -4.19000e+00  0.00000e+00]]\n",
      "Shape of array :  (20, 5)\n"
     ]
    }
   ],
   "source": [
    "print(\"Substracting   :\",'\\n', np.subtract(data[:],[1,25,25,10,4]))\n",
    "#print(\"Shape of array : \", data.shape)"
   ]
  },
  {
   "cell_type": "markdown",
   "metadata": {},
   "source": [
    "4. Multiply each element by 2. (Remember it can be multiplied in one line of code.)"
   ]
  },
  {
   "cell_type": "code",
   "execution_count": 25,
   "metadata": {},
   "outputs": [
    {
     "name": "stdout",
     "output_type": "stream",
     "text": [
      "[[  2.       2.       2.       2.       2.    ]\n",
      " [  0.      75.3756  74.8032  20.54     8.8   ]\n",
      " [  0.      74.4006  60.8752 156.14     8.    ]\n",
      " [  0.      71.3692  53.4532  85.54     9.    ]\n",
      " [  0.      72.8342  57.3982  29.72     8.2   ]\n",
      " [  0.      72.107   62.427   73.36    10.4   ]\n",
      " [  0.      74.3916  61.2482 100.66     9.6   ]\n",
      " [  0.      73.9306  55.5266  13.86     8.6   ]\n",
      " [  0.      77.786   52.8966  23.24     8.4   ]\n",
      " [  0.      74.7546  72.771   21.06     9.6   ]\n",
      " [  0.      71.7722  52.139   56.98     9.8   ]\n",
      " [  0.      74.927   72.6226  30.58     8.6   ]\n",
      " [  0.      74.0402  72.169   20.       8.2   ]\n",
      " [  0.      75.3092  53.3396   9.       9.    ]\n",
      " [  0.      75.0636  59.696   35.16     9.2   ]\n",
      " [  0.      78.0776  88.3066  15.04     9.    ]\n",
      " [  0.      76.714   89.7372  20.1      8.2   ]\n",
      " [  0.      71.4036  56.299   12.5      8.2   ]\n",
      " [  0.      75.3766  74.7936  21.26     8.2   ]\n",
      " [  0.      84.3642  85.1856  11.62     8.    ]]\n"
     ]
    }
   ],
   "source": [
    "data=data*2\n",
    "print(data)"
   ]
  }
 ],
 "metadata": {
  "kernelspec": {
   "display_name": "Python 3",
   "language": "python",
   "name": "python3"
  },
  "language_info": {
   "codemirror_mode": {
    "name": "ipython",
    "version": 3
   },
   "file_extension": ".py",
   "mimetype": "text/x-python",
   "name": "python",
   "nbconvert_exporter": "python",
   "pygments_lexer": "ipython3",
   "version": "3.7.6"
  }
 },
 "nbformat": 4,
 "nbformat_minor": 4
}
