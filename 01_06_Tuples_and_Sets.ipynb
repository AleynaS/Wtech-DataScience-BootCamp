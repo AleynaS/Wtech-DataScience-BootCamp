{
 "cells": [
  {
   "cell_type": "markdown",
   "metadata": {},
   "source": [
    "# Assignments for \"Dictionaries\" "
   ]
  },
  {
   "cell_type": "markdown",
   "metadata": {},
   "source": [
    "1. Create a tuple named \"week\" containing weekdays."
   ]
  },
  {
   "cell_type": "code",
   "execution_count": 4,
   "metadata": {},
   "outputs": [
    {
     "name": "stdout",
     "output_type": "stream",
     "text": [
      "Weekdays: ('monday', 'tuesday', 'wednesday', 'thursday', 'friday', 'saturday', 'sunday')\n"
     ]
    }
   ],
   "source": [
    "my_tuple=('monday','tuesday','wednesday','thursday','friday','saturday','sunday')\n",
    "\n",
    "print(\"Weekdays:\",my_tuple)\n",
    "\n"
   ]
  },
  {
   "cell_type": "markdown",
   "metadata": {},
   "source": [
    "2. Create a set named \"fruits\" containing followings: apple, mango, orange "
   ]
  },
  {
   "cell_type": "code",
   "execution_count": 6,
   "metadata": {},
   "outputs": [
    {
     "name": "stdout",
     "output_type": "stream",
     "text": [
      "Fruits set: {'orange', 'mango', 'apple'}\n"
     ]
    }
   ],
   "source": [
    "fruits = set(['apple', 'mango', 'orange'])\n",
    "print('Fruits set:',fruits)"
   ]
  },
  {
   "cell_type": "markdown",
   "metadata": {},
   "source": [
    "3. Create a new set named \"new_fruits\" containing followings: cherry, peach, apple, mango"
   ]
  },
  {
   "cell_type": "code",
   "execution_count": 8,
   "metadata": {},
   "outputs": [
    {
     "name": "stdout",
     "output_type": "stream",
     "text": [
      "Fruits set: {'mango', 'peach', 'cherry', 'apple'}\n",
      "Difference : {'orange'}\n"
     ]
    }
   ],
   "source": [
    "new_fruits = set(['cherry', 'peach', 'apple','mango'])\n",
    "print('Fruits set:',new_fruits)\n",
    "\n"
   ]
  },
  {
   "cell_type": "markdown",
   "metadata": {},
   "source": [
    "4. Find the fruits which are in new_fruits but not in fruits."
   ]
  },
  {
   "cell_type": "code",
   "execution_count": 13,
   "metadata": {},
   "outputs": [
    {
     "name": "stdout",
     "output_type": "stream",
     "text": [
      "Difference : {'cherry', 'peach'}\n",
      "{'cherry', 'peach'}\n"
     ]
    }
   ],
   "source": [
    "print(\"Difference :\", new_fruits - fruits) \n",
    "\n",
    "print(new_fruits.difference(fruits))"
   ]
  },
  {
   "cell_type": "markdown",
   "metadata": {},
   "source": [
    "5. Find the fruits which are in both new_fruits and fruits."
   ]
  },
  {
   "cell_type": "code",
   "execution_count": 12,
   "metadata": {},
   "outputs": [
    {
     "name": "stdout",
     "output_type": "stream",
     "text": [
      "Union of two sets : {'mango', 'peach', 'cherry', 'orange', 'apple'}\n"
     ]
    }
   ],
   "source": [
    "print(\"Union of two sets :\", new_fruits | fruits) "
   ]
  }
 ],
 "metadata": {
  "kernelspec": {
   "display_name": "Python 3",
   "language": "python",
   "name": "python3"
  },
  "language_info": {
   "codemirror_mode": {
    "name": "ipython",
    "version": 3
   },
   "file_extension": ".py",
   "mimetype": "text/x-python",
   "name": "python",
   "nbconvert_exporter": "python",
   "pygments_lexer": "ipython3",
   "version": "3.7.6"
  }
 },
 "nbformat": 4,
 "nbformat_minor": 4
}
