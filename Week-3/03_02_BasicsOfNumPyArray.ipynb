{
 "cells": [
  {
   "cell_type": "markdown",
   "metadata": {},
   "source": [
    "# <font color=blue>Assignments for \"basics of NumPy Array\"</font>"
   ]
  },
  {
   "cell_type": "markdown",
   "metadata": {},
   "source": [
    "1. Create 3 lists representing house features, each list containing 10 values. First one for squaremeter of house, second one for rooms and last one for price. Then, create an array combining these lists."
   ]
  },
  {
   "cell_type": "code",
   "execution_count": 7,
   "metadata": {},
   "outputs": [
    {
     "name": "stdout",
     "output_type": "stream",
     "text": [
      "[]\n",
      "[[0 1 2 3 4 5 6 7 8 9]\n",
      " [0 1 2 3 4 5 6 7 8 9]\n",
      " [0 1 2 3 4 5 6 7 8 9]]\n"
     ]
    }
   ],
   "source": [
    "import numpy as np\n",
    "i=j=k=0\n",
    "array=np.zeros((i,j,k))\n",
    "print(array)\n",
    "\n",
    "squarmeter_of_house = list(range(10))\n",
    "rooms_of_house=list(range(10))\n",
    "price_of_house=list(range(10))\n",
    "\n",
    "array = np.array([squarmeter_of_house, rooms_of_house, price_of_house])\n",
    "print(array)"
   ]
  },
  {
   "cell_type": "markdown",
   "metadata": {},
   "source": [
    "2. Transpose the array you have created, so that every line can represent features of one house."
   ]
  },
  {
   "cell_type": "code",
   "execution_count": 11,
   "metadata": {},
   "outputs": [
    {
     "name": "stdout",
     "output_type": "stream",
     "text": [
      "[[0 0 0]\n",
      " [1 1 1]\n",
      " [2 2 2]\n",
      " [3 3 3]\n",
      " [4 4 4]\n",
      " [5 5 5]\n",
      " [6 6 6]\n",
      " [7 7 7]\n",
      " [8 8 8]\n",
      " [9 9 9]]\n"
     ]
    }
   ],
   "source": [
    "array_new = array.transpose()\n",
    "\n",
    "print(array_new)"
   ]
  },
  {
   "cell_type": "markdown",
   "metadata": {},
   "source": [
    "3. Display the shape of the array and explain what it means."
   ]
  },
  {
   "cell_type": "code",
   "execution_count": 13,
   "metadata": {},
   "outputs": [
    {
     "name": "stdout",
     "output_type": "stream",
     "text": [
      "Shape of array :  (10, 3)\n"
     ]
    }
   ],
   "source": [
    "print(\"Shape of array : \", array_new.shape)"
   ]
  },
  {
   "cell_type": "markdown",
   "metadata": {},
   "source": [
    "4. Write a function that returns an array of ones with zeros where both row and column numbers are even. Sample array is below. Number of rows and columns will be entered as parameters.\n",
    "\n",
    "```python\n",
    "    shape(6 x 5) --> [[1   1   1   1   1]\n",
    "                      [1   0   1   0   1]\n",
    "                      [1   1   1   1   1]\n",
    "                      [1   0   1   0   1]\n",
    "                      [1   1   1   1   1]\n",
    "                      [1   0   1   0   1]]\n",
    "```"
   ]
  },
  {
   "cell_type": "code",
   "execution_count": 22,
   "metadata": {},
   "outputs": [
    {
     "name": "stdout",
     "output_type": "stream",
     "text": [
      "shape(6 x 5) -->\n",
      "[[[1 1 1 1 1]\n",
      "  [1 0 1 0 1]\n",
      "  [1 1 1 1 1]\n",
      "  [1 0 1 0 1]\n",
      "  [1 1 1 1 1]\n",
      "  [1 0 1 0 1]]]\n"
     ]
    }
   ],
   "source": [
    "\n",
    "\n",
    "array_6x5 = np.array([[[1,1,1,1,1],\n",
    "                      [1,0,1,0,1],\n",
    "                      [1,1,1,1,1],\n",
    "                      [1,0,1,0,1],\n",
    "                      [1,1,1,1,1],\n",
    "                      [1,0,1,0,1]]\n",
    "])\n",
    "\n",
    "print(\"shape(6 x 5) -->\")\n",
    "print(array_6x5)\n",
    "\n",
    "\n",
    "count_zeros=array_6x5.count(0)\n",
    "print"
   ]
  },
  {
   "cell_type": "code",
   "execution_count": null,
   "metadata": {},
   "outputs": [],
   "source": []
  }
 ],
 "metadata": {
  "kernelspec": {
   "display_name": "Python 3",
   "language": "python",
   "name": "python3"
  },
  "language_info": {
   "codemirror_mode": {
    "name": "ipython",
    "version": 3
   },
   "file_extension": ".py",
   "mimetype": "text/x-python",
   "name": "python",
   "nbconvert_exporter": "python",
   "pygments_lexer": "ipython3",
   "version": "3.7.6"
  }
 },
 "nbformat": 4,
 "nbformat_minor": 4
}
